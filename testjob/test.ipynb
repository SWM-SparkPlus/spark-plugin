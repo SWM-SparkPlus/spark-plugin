{
 "cells": [
  {
   "cell_type": "code",
   "execution_count": 2,
   "metadata": {},
   "outputs": [
    {
     "ename": "ModuleNotFoundError",
     "evalue": "No module named 'dependencies'",
     "output_type": "error",
     "traceback": [
      "\u001b[0;31m---------------------------------------------------------------------------\u001b[0m",
      "\u001b[0;31mModuleNotFoundError\u001b[0m                       Traceback (most recent call last)",
      "\u001b[0;32m/var/folders/56/r21hcm093hg104t5r5t02bfh0000gn/T/ipykernel_55808/129017945.py\u001b[0m in \u001b[0;36m<module>\u001b[0;34m\u001b[0m\n\u001b[1;32m      4\u001b[0m \u001b[0;32mimport\u001b[0m \u001b[0mpandas\u001b[0m \u001b[0;32mas\u001b[0m \u001b[0mpd\u001b[0m\u001b[0;34m\u001b[0m\u001b[0;34m\u001b[0m\u001b[0m\n\u001b[1;32m      5\u001b[0m \u001b[0;34m\u001b[0m\u001b[0m\n\u001b[0;32m----> 6\u001b[0;31m \u001b[0;32mfrom\u001b[0m \u001b[0mdependencies\u001b[0m\u001b[0;34m.\u001b[0m\u001b[0mspark\u001b[0m \u001b[0;32mimport\u001b[0m \u001b[0mstart_spark\u001b[0m\u001b[0;34m\u001b[0m\u001b[0;34m\u001b[0m\u001b[0m\n\u001b[0m\u001b[1;32m      7\u001b[0m \u001b[0;32mfrom\u001b[0m \u001b[0mjobs\u001b[0m\u001b[0;34m.\u001b[0m\u001b[0mtable_to_df\u001b[0m \u001b[0;32mimport\u001b[0m \u001b[0mcreate_df\u001b[0m\u001b[0;34m\u001b[0m\u001b[0;34m\u001b[0m\u001b[0m\n\u001b[1;32m      8\u001b[0m \u001b[0;32mfrom\u001b[0m \u001b[0mpackage\u001b[0m \u001b[0;32mimport\u001b[0m \u001b[0mgis\u001b[0m\u001b[0;34m\u001b[0m\u001b[0;34m\u001b[0m\u001b[0m\n",
      "\u001b[0;31mModuleNotFoundError\u001b[0m: No module named 'dependencies'"
     ]
    }
   ],
   "source": [
    "import sys\n",
    "import os\n",
    "\n",
    "import pandas as pd\n",
    "\n",
    "from ../dependencies.spark import start_spark\n",
    "from ../jobs.table_to_df import create_df\n",
    "from ../package import gis\n",
    "\n",
    "table_list = [\n",
    "\t'additional_info_busan',\n",
    "\t'additional_info_chungbuk',\n",
    "\t'additional_info_chungnam',\n",
    "\t'additional_info_daegu',\n",
    "\t'additional_info_daejeon',\n",
    "\t'additional_info_gangwon',\n",
    "\t'additional_info_gwangju',\n",
    "\t'additional_info_gyeongbuk',\n",
    "\t'additional_info_gyeonggi',\n",
    "\t'additional_info_gyeongnam',\n",
    "\t'additional_info_incheon',\n",
    "\t'additional_info_jeju',\n",
    "\t'additional_info_jeonbuk',\n",
    "\t'additional_info_jeonnam',\n",
    "\t'additional_info_sejong',\n",
    "\t'additional_info_seoul',\n",
    "\t'additional_info_ulsan',\n",
    "\t'jibun_address_busan',\n",
    "\t'jibun_address_chungbuk',\n",
    "\t'jibun_address_chungnam',\n",
    "\t'jibun_address_daegu',\n",
    "\t'jibun_address_daejeon',\n",
    "\t'jibun_address_gangwon',\n",
    "\t'jibun_address_gwangju',\n",
    "\t'jibun_address_gyeongbuk',\n",
    "\t'jibun_address_gyeonggi',\n",
    "\t'jibun_address_gyeongnam',\n",
    "\t'jibun_address_incheon',\n",
    "\t'jibun_address_jeju',\n",
    "\t'jibun_address_jeonbuk',\n",
    "\t'jibun_address_jeonnam',\n",
    "\t'jibun_address_sejong',\n",
    "\t'jibun_address_seoul',\n",
    "\t'jibun_address_ulsan',\n",
    "\t'roadname_address_busan',\n",
    "\t'roadname_address_chungbuk',\n",
    "\t'roadname_address_chungnam',\n",
    "\t'roadname_address_daegu',\n",
    "\t'roadname_address_daejeon',\n",
    "\t'roadname_address_gangwon',\n",
    "\t'roadname_address_gwangju',\n",
    "\t'roadname_address_gyeongbuk',\n",
    "\t'roadname_address_gyeonggi',\n",
    "\t'roadname_address_gyeongnam',\n",
    "\t'roadname_address_incheon',\n",
    "\t'roadname_address_jeju',\n",
    "\t'roadname_address_jeonbuk',\n",
    "\t'roadname_address_jeonnam',\n",
    "\t'roadname_address_sejong',\n",
    "\t'roadname_address_seoul',\n",
    "\t'roadname_address_ulsan',\n",
    "\t'roadname_code'\n",
    "]\n",
    "\n",
    "spark, *_ = start_spark()\n",
    "\n",
    "for table in table_list:\n",
    "    name = table + \"_df\"\n",
    "    globals()[name] = create_df(spark, table)\n",
    "\n",
    "gdf = gis.load_shp(spark, \"../resource/EMD_202101/TL_SCCO_EMD.shp\")\n",
    "gdf = gdf.loc[gdf['EMD_CD'].eq('42110101')]\n",
    "print(gdf)\n",
    "\n",
    "ax = gdf.plot(figsize=(15, 15), column='EMD_CD', cmap='RdBu')\n",
    "ax.axis('off')\n"
   ]
  }
 ],
 "metadata": {
  "interpreter": {
   "hash": "4cd7ab41f5fca4b9b44701077e38c5ffd31fe66a6cab21e0214b68d958d0e462"
  },
  "kernelspec": {
   "display_name": "Python 3.9.6 64-bit",
   "name": "python3"
  },
  "language_info": {
   "codemirror_mode": {
    "name": "ipython",
    "version": 3
   },
   "file_extension": ".py",
   "mimetype": "text/x-python",
   "name": "python",
   "nbconvert_exporter": "python",
   "pygments_lexer": "ipython3",
   "version": "3.9.6"
  },
  "orig_nbformat": 4
 },
 "nbformat": 4,
 "nbformat_minor": 2
}